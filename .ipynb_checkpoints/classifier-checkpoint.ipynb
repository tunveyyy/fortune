{
 "cells": [
  {
   "cell_type": "code",
   "execution_count": 1,
   "metadata": {},
   "outputs": [],
   "source": [
    "import sys\n",
    "import time\n",
    "import pandas as pd\n",
    "import numpy as np\n",
    "import matplotlib.pyplot as plt"
   ]
  },
  {
   "cell_type": "code",
   "execution_count": 43,
   "metadata": {},
   "outputs": [],
   "source": [
    "def read_data():\n",
    "    stoplist_file = open('data/stoplist.txt')\n",
    "    traindata_file = open('data/traindata.txt')\n",
    "    trainlabel_file = open('data/trainlabels.txt')\n",
    "    testdata_file = open('data/testdata.txt')\n",
    "    testlabel_file = open('data/testlabels.txt')\n",
    "    \n",
    "    stop_words = []\n",
    "    train_data = []\n",
    "    train_label = []\n",
    "    test_data = []\n",
    "    test_label = []\n",
    "    \n",
    "    for line in stoplist_file:\n",
    "        line = line.replace('\\n', '')\n",
    "        stop_words.append(line)\n",
    "        \n",
    "    for line in traindata_file:\n",
    "        line = line.replace('\\n', '')\n",
    "        train_data.append(line)\n",
    "        \n",
    "    for line in trainlabel_file:\n",
    "        line = line.replace('\\n', '')\n",
    "        train_label.append(line)\n",
    "    \n",
    "    for line in testdata_file:\n",
    "        line = line.replace('\\n', '')\n",
    "        test_data.append(line)\n",
    "    \n",
    "    for line in testlabel_file:\n",
    "        line = line.replace('\\n', '')\n",
    "        test_label.append(line)\n",
    "        \n",
    "    return (stop_words, train_data, train_label, test_data, test_label)"
   ]
  },
  {
   "cell_type": "code",
   "execution_count": 67,
   "metadata": {},
   "outputs": [],
   "source": [
    "def preprocess(stop_words, train_data):\n",
    "    \n",
    "    vocabulary = []\n",
    "    \n",
    "    for line in train_data:\n",
    "        line = line.replace('\\n', '')\n",
    "        line = line.split(' ')\n",
    "        for word in line:\n",
    "            if word not in stop_words and word not in vocabulary and len(word) > 0:\n",
    "                vocabulary.append(word)\n",
    "    vocabulary.sort()\n",
    "    return vocabulary"
   ]
  },
  {
   "cell_type": "code",
   "execution_count": 95,
   "metadata": {},
   "outputs": [],
   "source": [
    "def convert_to_feature(vocabulary, train_data, train_label, test_data, test_label):\n",
    "    \n",
    "    train_x = np.zeros((len(train_data), len(vocabulary)))\n",
    "    test_x = np.zeros((len(test_data), len(vocabulary)))\n",
    "    \n",
    "    train_count = 0\n",
    "    \n",
    "    for line in train_data:\n",
    "        line = line.replace('\\n', '')\n",
    "        line = line.split(' ')\n",
    "        for word in line:\n",
    "            if word in vocabulary:\n",
    "                index = vocabulary.index(word)\n",
    "                train_x[train_count][index] = 1\n",
    "                \n",
    "        train_count += 1\n",
    "        \n",
    "    test_count = 0\n",
    "    \n",
    "    for line in test_data:\n",
    "        line = line.replace('\\n', '')\n",
    "        line = line.split(' ')\n",
    "        for word in line:\n",
    "            if word in vocabulary:\n",
    "                index = vocabulary.index(word)\n",
    "                test_x[test_count][index] = 1\n",
    "                \n",
    "        test_count += 1\n",
    "    \n",
    "    "
   ]
  },
  {
   "cell_type": "code",
   "execution_count": 96,
   "metadata": {},
   "outputs": [],
   "source": [
    "def main():\n",
    "    (stop_words, train_data, train_label, test_data, test_label) = read_data()\n",
    "    vocabulary = preprocess(stop_words, train_data)\n",
    "    convert_to_feature(vocabulary, train_data, train_label, test_data, test_label)"
   ]
  },
  {
   "cell_type": "code",
   "execution_count": 97,
   "metadata": {},
   "outputs": [],
   "source": [
    "if __name__ == '__main__':\n",
    "    main()"
   ]
  },
  {
   "cell_type": "code",
   "execution_count": null,
   "metadata": {},
   "outputs": [],
   "source": []
  }
 ],
 "metadata": {
  "kernelspec": {
   "display_name": "Python 3",
   "language": "python",
   "name": "python3"
  },
  "language_info": {
   "codemirror_mode": {
    "name": "ipython",
    "version": 3
   },
   "file_extension": ".py",
   "mimetype": "text/x-python",
   "name": "python",
   "nbconvert_exporter": "python",
   "pygments_lexer": "ipython3",
   "version": "3.7.0"
  }
 },
 "nbformat": 4,
 "nbformat_minor": 2
}
